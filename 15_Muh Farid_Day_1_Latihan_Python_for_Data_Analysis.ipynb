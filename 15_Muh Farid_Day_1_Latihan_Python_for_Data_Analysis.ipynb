{
 "cells": [
  {
   "cell_type": "markdown",
   "id": "b157fc01",
   "metadata": {},
   "source": [
    "1. Buatlah list berisi seluruh email pegawai yang ada di string data berikut."
   ]
  },
  {
   "cell_type": "code",
   "execution_count": 2,
   "id": "f8da3e3e",
   "metadata": {},
   "outputs": [],
   "source": [
    "data = '''booker12;rachel@example.com;9012;Rachel;Booker\n",
    "grey07;grey@anatomy.com;2070;Laura;Grey\n",
    "johnson81;johnson@johnson.and;4081;Craig;Johnson\n",
    "jenkins46;mary@example.com;9346;Mary;Jenkins\n",
    "smith79;jamie@example.com;5079;Jamie;Smith\n",
    "looke13;looke@example.com;9012;Rachel;Looke\n",
    "york07;york@anatomy.com;2070;Laura;York\n",
    "sholeh05;sholeh@johnson.and;4081;Craig;Sholeh\n",
    "vale46;vale@example.com;9346;Mary;Vale\n",
    "tugtug79;tugtug@example.com;5079;Jamie;Tugtug'''"
   ]
  },
  {
   "cell_type": "code",
   "execution_count": 4,
   "id": "a7762891",
   "metadata": {},
   "outputs": [
    {
     "name": "stdout",
     "output_type": "stream",
     "text": [
      "['booker12', 'rachel@example.com', '9012', 'Rachel', 'Booker\\ngrey07', 'grey@anatomy.com', '2070', 'Laura', 'Grey\\njohnson81', 'johnson@johnson.and', '4081', 'Craig', 'Johnson\\njenkins46', 'mary@example.com', '9346', 'Mary', 'Jenkins\\nsmith79', 'jamie@example.com', '5079', 'Jamie', 'Smith\\nlooke13', 'looke@example.com', '9012', 'Rachel', 'Looke\\nyork07', 'york@anatomy.com', '2070', 'Laura', 'York\\nsholeh05', 'sholeh@johnson.and', '4081', 'Craig', 'Sholeh\\nvale46', 'vale@example.com', '9346', 'Mary', 'Vale\\ntugtug79', 'tugtug@example.com', '5079', 'Jamie', 'Tugtug']\n",
      "41\n"
     ]
    },
    {
     "data": {
      "text/plain": [
       "['rachel@example.com',\n",
       " 'grey@anatomy.com',\n",
       " 'johnson@johnson.and',\n",
       " 'mary@example.com',\n",
       " 'jamie@example.com',\n",
       " 'looke@example.com',\n",
       " 'york@anatomy.com',\n",
       " 'sholeh@johnson.and',\n",
       " 'vale@example.com',\n",
       " 'tugtug@example.com']"
      ]
     },
     "execution_count": 4,
     "metadata": {},
     "output_type": "execute_result"
    }
   ],
   "source": [
    "#langkah 1: membagi string data berdasarkan tanda titik koma (;) dengan split()\n",
    "data.split(';')\n",
    "print(data.split(';'))\n",
    "print (len (data.split(';')))\n",
    "\n",
    "#langkah 2: indeks 1 dan mengambil setiap elemen ke-4\n",
    "data.split(';')[1::4]"
   ]
  },
  {
   "cell_type": "markdown",
   "id": "c9edff84",
   "metadata": {},
   "source": [
    "Challenge Zone: apakah task di atas bisa diselesaikan dengan satu baris kode?"
   ]
  },
  {
   "cell_type": "code",
   "execution_count": 72,
   "id": "5de93af8",
   "metadata": {},
   "outputs": [
    {
     "name": "stdout",
     "output_type": "stream",
     "text": [
      "['rachel@example.com', 'grey@anatomy.com', 'johnson@johnson.and', 'mary@example.com', 'jamie@example.com', 'looke@example.com', 'york@anatomy.com', 'sholeh@johnson.and', 'vale@example.com', 'tugtug@example.com']\n"
     ]
    }
   ],
   "source": [
    "list_emails = [emails.split(';')[1] for emails in data.split('\\n')]\n",
    "print (emails)"
   ]
  },
  {
   "cell_type": "markdown",
   "id": "d15f2b25",
   "metadata": {},
   "source": [
    "2. Buatlah list deck kartu yang berisi pasangan antara card_sleeve dan card_value"
   ]
  },
  {
   "cell_type": "code",
   "execution_count": 26,
   "id": "5ea463d0",
   "metadata": {},
   "outputs": [],
   "source": [
    "card_sleeve = ['♣','♦','♥','♠']\n",
    "card_value = ['2','3','4','5','6','7','8','9','10','J','Q','K','A']"
   ]
  },
  {
   "cell_type": "code",
   "execution_count": 45,
   "id": "56fe164e",
   "metadata": {},
   "outputs": [
    {
     "name": "stdout",
     "output_type": "stream",
     "text": [
      "['2 of ♣', '3 of ♣', '4 of ♣', '5 of ♣', '6 of ♣', '7 of ♣', '8 of ♣', '9 of ♣', '10 of ♣', 'J of ♣', 'Q of ♣', 'K of ♣', 'A of ♣', '2 of ♦', '3 of ♦', '4 of ♦', '5 of ♦', '6 of ♦', '7 of ♦', '8 of ♦', '9 of ♦', '10 of ♦', 'J of ♦', 'Q of ♦', 'K of ♦', 'A of ♦', '2 of ♥', '3 of ♥', '4 of ♥', '5 of ♥', '6 of ♥', '7 of ♥', '8 of ♥', '9 of ♥', '10 of ♥', 'J of ♥', 'Q of ♥', 'K of ♥', 'A of ♥', '2 of ♠', '3 of ♠', '4 of ♠', '5 of ♠', '6 of ♠', '7 of ♠', '8 of ♠', '9 of ♠', '10 of ♠', 'J of ♠', 'Q of ♠', 'K of ♠', 'A of ♠']\n"
     ]
    }
   ],
   "source": [
    "list_deck = []\n",
    "for s in card_sleeve:\n",
    "  for v in card_value:\n",
    "    list_deck.append(v + ' of '+ s)\n",
    "print(list_deck)"
   ]
  },
  {
   "cell_type": "markdown",
   "id": "800812be",
   "metadata": {},
   "source": [
    "Challenge Zone: apakah task di atas bisa diselesaikan dengan satu baris kode?"
   ]
  },
  {
   "cell_type": "code",
   "execution_count": 46,
   "id": "210fe2e5",
   "metadata": {
    "scrolled": true
   },
   "outputs": [
    {
     "name": "stdout",
     "output_type": "stream",
     "text": [
      "['A of ♠', 'A of ♠', 'A of ♠', 'A of ♠', 'A of ♠', 'A of ♠', 'A of ♠', 'A of ♠', 'A of ♠', 'A of ♠', 'A of ♠', 'A of ♠', 'A of ♠', 'A of ♠', 'A of ♠', 'A of ♠', 'A of ♠', 'A of ♠', 'A of ♠', 'A of ♠', 'A of ♠', 'A of ♠', 'A of ♠', 'A of ♠', 'A of ♠', 'A of ♠', 'A of ♠', 'A of ♠', 'A of ♠', 'A of ♠', 'A of ♠', 'A of ♠', 'A of ♠', 'A of ♠', 'A of ♠', 'A of ♠', 'A of ♠', 'A of ♠', 'A of ♠', 'A of ♠', 'A of ♠', 'A of ♠', 'A of ♠', 'A of ♠', 'A of ♠', 'A of ♠', 'A of ♠', 'A of ♠', 'A of ♠', 'A of ♠', 'A of ♠', 'A of ♠']\n"
     ]
    }
   ],
   "source": [
    "list_deck1 = [v + ' of ' + s for sleeve in card_sleeve for value in card_value] \n",
    "print(list_deck1)"
   ]
  },
  {
   "cell_type": "markdown",
   "id": "e99d9554",
   "metadata": {},
   "source": [
    "3. Buatlah function untuk mengecek apakah pegawai dengan nama tertentu ada di employee_data,"
   ]
  },
  {
   "cell_type": "code",
   "execution_count": 48,
   "id": "838ea311",
   "metadata": {},
   "outputs": [],
   "source": [
    "employee_data = '''booker12;rachel@example.com;9012;rachel booker\n",
    "grey07;grey@anatomy.com;2070;laura grey\n",
    "johnson81;johnson@johnson.and;4081;craig johnson\n",
    "jenkins46;mary@example.com;9346;mary jenkins\n",
    "smith79;jamie@example.com;5079;jamie smith\n",
    "looke13;looke@example.com;9012;rachel looke\n",
    "york07;york@anatomy.com;2070;laura york\n",
    "sholeh05;sholeh@johnson.and;4081;craig sholeh\n",
    "vale46;vale@example.com;9346;mary vale\n",
    "tugtug79;tugtug@example.com;5079;jamie tugtug'''"
   ]
  },
  {
   "cell_type": "code",
   "execution_count": 69,
   "id": "2c01c3c6",
   "metadata": {},
   "outputs": [],
   "source": [
    "def is_employee_exist(search_name):\n",
    "    # Mengubah employee_data menjadi list\n",
    "    employee_list = employee_data.split('\\n')\n",
    "    \n",
    "    # Iterasi setiap baris dalam employee_data\n",
    "    for employee_info in employee_list:\n",
    "        employee_info_list = employee_info.split(';')\n",
    "        \n",
    "        # Mengambil nama pegawai dari informasi pegawai yaitu di elemen terakhir\n",
    "        name = employee_info_list[-1]\n",
    "        \n",
    "        # Jika nama pegawai yang ingin diperiksa ada dalam data pegawai, cetak nama dan emailnya\n",
    "        if search_name in name:\n",
    "            email = employee_info_list[1]\n",
    "            print(f\"Nama: {name}\")\n",
    "            print(f\"Email: {email}\")\n",
    "            return True\n",
    "    return False"
   ]
  },
  {
   "cell_type": "code",
   "execution_count": 73,
   "id": "ea559bda",
   "metadata": {},
   "outputs": [
    {
     "name": "stdout",
     "output_type": "stream",
     "text": [
      "Nama: jamie smith\n",
      "Email: jamie@example.com\n"
     ]
    },
    {
     "data": {
      "text/plain": [
       "True"
      ]
     },
     "execution_count": 73,
     "metadata": {},
     "output_type": "execute_result"
    }
   ],
   "source": [
    "is_employee_exist('jamie')"
   ]
  },
  {
   "cell_type": "markdown",
   "id": "81ce4321",
   "metadata": {},
   "source": [
    "4. Di dalam variabel student_score_data terdapat daftar nilai setiap mata pelajaran dari setiap siswa di kelas A. Siapa saja siswa yang ada di kelas A? Dan apa saja mata pelajaran yang mereka pelajari?"
   ]
  },
  {
   "cell_type": "code",
   "execution_count": 75,
   "id": "5c42dafb",
   "metadata": {},
   "outputs": [],
   "source": [
    "student_score_data = '''Tono,Matematika,100\n",
    "Tuti,Matematika,34\n",
    "Rosi,Matematika,78\n",
    "Aldo,Matematika,86\n",
    "Tono,English,73\n",
    "Tuti,English,99\n",
    "Rosi,English,63\n",
    "Aldo,English,82\n",
    "Tono,Biologi,67\n",
    "Tuti,Biologi,97\n",
    "Rosi,Biologi,72\n",
    "Aldo,Biologi,81\n",
    "Tono,Fisika,91\n",
    "Tuti,Fisika,76\n",
    "Rosi,Fisika,77\n",
    "Aldo,Fisika,83\n",
    "Tono,Olahraga,72\n",
    "Tuti,Olahraga,74\n",
    "Rosi,Olahraga,97\n",
    "Aldo,Olahraga,91'''"
   ]
  },
  {
   "cell_type": "code",
   "execution_count": 83,
   "id": "35c282a4",
   "metadata": {},
   "outputs": [
    {
     "name": "stdout",
     "output_type": "stream",
     "text": [
      "Aldo\n",
      "Tono\n",
      "Tuti\n",
      "Rosi\n",
      "Matematika\n",
      "English\n",
      "Olahraga\n",
      "Fisika\n",
      "Biologi\n"
     ]
    }
   ],
   "source": [
    "# Mendapatkan daftar siswa dan mata pelajaran yang mereka pelajari\n",
    "students = set()\n",
    "subjects = set()\n",
    "\n",
    "# Memisahkan data berdasarkan baris\n",
    "student_data_list = student_score_data.split('\\n')\n",
    "\n",
    "# Iterasi setiap baris untuk mendapatkan nama siswa dan mata pelajaran\n",
    "for line in student_data_list:\n",
    "    elem = line.split(',')\n",
    "    student = elem[0]\n",
    "    subject = elem[1]\n",
    "    students.add(student)\n",
    "    subjects.add(subject)\n",
    "\n",
    "for student in students:\n",
    "    print(student)\n",
    "\n",
    "for subject in subjects:\n",
    "    print(subject)"
   ]
  },
  {
   "cell_type": "markdown",
   "id": "a0a98874",
   "metadata": {},
   "source": [
    "5. Buat dictionary dengan key nama siswa, dan value berisi rata-rata nilai siswa tersebut"
   ]
  },
  {
   "cell_type": "code",
   "execution_count": 115,
   "id": "7a4ca209",
   "metadata": {},
   "outputs": [
    {
     "name": "stdout",
     "output_type": "stream",
     "text": [
      "Rata-rata nilai setiap siswa:\n",
      "Tono: 80.6\n",
      "Tuti: 76.0\n",
      "Rosi: 77.4\n",
      "Aldo: 84.6\n"
     ]
    }
   ],
   "source": [
    "# Membuat dictionary untuk menyimpan nilai siswa\n",
    "student_scores = {}\n",
    "\n",
    "# Memisahkan data berdasarkan baris\n",
    "student_data_list = student_score_data.split('\\n')\n",
    "\n",
    "# Iterasi baris untuk mendapatkan siswa dan nilai\n",
    "for line in student_data_list:\n",
    "    elemen = line.split(',')\n",
    "    student = elemen[0]\n",
    "    score = int(elemen[2])  # Mengubah nilai menjadi integer\n",
    "    # Jika siswa sudah ada dalam dictionary, tambahkan nilai\n",
    "    if student in student_scores:\n",
    "        student_scores[student].append(score)\n",
    "    # Jika siswa belum ada dalam dictionary, buat list nilai baru\n",
    "    else:\n",
    "        student_scores[student] = [score]\n",
    "\n",
    "# Menghitung rata-rata nilai setiap siswa\n",
    "average_scores = {student: sum(scores) / len(scores) for student, scores in student_scores.items()}\n",
    "\n",
    "# Print dictionary rata-rata nilai setiap siswa\n",
    "print(\"Rata-rata nilai setiap siswa:\")\n",
    "for student, average_score in average_scores.items():\n",
    "    print(f\"{student}: {average_score}\")\n"
   ]
  },
  {
   "cell_type": "markdown",
   "id": "0be8a786",
   "metadata": {},
   "source": [
    "6. Buat function untuk melakukan enkripsi password dengan langkah-langkah sebagai berikut:\n",
    "Dapatkan nomor ASCII code dari setiap huruf dengan menggunakan fungsi ord().\n",
    "Hitung sisa pembagian (modulo) dari nomor ASCII code dari langkah a dengan panjang variabel str_1.\n",
    "Gunakan sisa pembagian (modulo) dari langkah b sebagai index untuk mengambil karakter hasil enkripsi dari str_1.\n",
    "Untuk mengetes fungsi yang Anda buat:\n",
    "\n",
    "apabila passwordnya adalah password, hasil enkripsinya menjadi YJ226X1M\n",
    "apabila passwordnya adalah abcd1234, hasil enkripsinya menjadi JKLMXYZ1"
   ]
  },
  {
   "cell_type": "code",
   "execution_count": 116,
   "id": "dbcefef3",
   "metadata": {},
   "outputs": [
    {
     "name": "stdout",
     "output_type": "stream",
     "text": [
      "YJ226X1M\n",
      "JKLMXYZ1\n"
     ]
    }
   ],
   "source": [
    "def encrypt_password(password):\n",
    "    str_1 = \"abcdefghijklmnopqrstuvwxyzABCDEFGHIJKLMNOPQRSTUVWXYZ1234567890\"\n",
    "    encrypted_password = \"\"\n",
    "    \n",
    "    # Langkah 1 Dapatkan nomor ASCII code dari setiap huruf\n",
    "    ascii_codes = [ord(char) for char in password]\n",
    "    \n",
    "    # Panjang variabel str_1\n",
    "    str_1_length = len(str_1)\n",
    "    \n",
    "    # Langkah 2 Hitung sisa pembagian (modulo) dari nomor ASCII code dengan panjang variabel str_1\n",
    "    encrypted_chars = [ascii_code % str_1_length for ascii_code in ascii_codes]\n",
    "    \n",
    "    # Langkah 3 Gunakan sisa pembagian (modulo) sebagai index untuk mengambil karakter hasil enkripsi dari str_1\n",
    "    for encrypted_char_index in encrypted_chars:\n",
    "        encrypted_password += str_1[encrypted_char_index]\n",
    "    \n",
    "    return encrypted_password\n",
    "\n",
    "# Test fungsi enkripsi password\n",
    "password1 = encrypt_password(\"password\")\n",
    "password2 = encrypt_password(\"abcd1234\")\n",
    "\n",
    "print (password1)\n",
    "print (password2)\n"
   ]
  },
  {
   "cell_type": "markdown",
   "id": "45e0c41f",
   "metadata": {},
   "source": [
    "7. Berikut ini adalah pesan yang dituliskan dalam kode di variabel myst_nums. Untungnya pemilik pesan telah menyediakan 3 dictionary dict1, dict2, dan dict3 untuk menerjemahkannya. Bisakah Anda menerjemahkan pesan tersebut?"
   ]
  },
  {
   "cell_type": "code",
   "execution_count": 125,
   "id": "13413ba9",
   "metadata": {},
   "outputs": [
    {
     "name": "stdout",
     "output_type": "stream",
     "text": [
      "we're all strangers fighting in the streets with no common ground we're just strangers tryna find release when there's none around then there's you you don't feel that much a stranger you stand out from all the crowds i don't feel that much in danger i was lost till i found you baby, baby, won't you please come rescue me? i don't really wanna stay if you're not all i know is that i need you, baby hold me close so i can finally breathe \n"
     ]
    }
   ],
   "source": [
    "# Pesan yang akan diterjemahkan\n",
    "myst_nums = \"2658 8503 2582 3035 9951 5535 1763 5552 2276 2079 4906 2658 293 2582 3407 786 6164 3279 3825 595 4975 6152 1974 7262 7262 2070 1861 6055 9735 1398 183 7262 7708 3284 4175 2908 8000 9364 4979 2070 1861 6055 9735 8590 4691 4979 8618 4161 9302 4979 7840 7262 3589 3589 9817 5372 7278 3522 2890 7206 8258 2037 8445 1076 7853 5400 8159 4505 8364 8258 1258 2738 4527 8258 2635 6049 5576 6798 9432 9290 4362 8258 6142 978 9198\"\n",
    "\n",
    "# Dictionary yang disediakan\n",
    "dict1 = {6152: 'then', 9302: 'till', 9735: 'much', 1398: 'a', 8618: 'was', 3284: 'out', 7262: 'you', 1974: \"there's\", 4979: 'i', 4161: 'lost', 9364: 'crowds', 1861: 'feel', 7840: 'found', 183: 'stranger', 8590: 'in', 8000: 'the', 6055: 'that', 2070: \"don't\", 4691: 'danger', 4175: 'from', 7708: 'stand', 2908: 'all'}\n",
    "dict2 = {3279: 'when', 595: 'none', 2276: 'no', 1763: 'streets', 3407: 'tryna', 3825: \"there's\", 3035: 'fighting', 4906: 'ground', 293: 'just', 5552: 'with', 2582: 'strangers', 2658: \"we're\", 9951: 'in', 5535: 'the', 6164: 'release', 2079: 'common', 4975: 'around', 8503: 'all', 786: 'find'}\n",
    "dict3 = {9432: 'me', 3589: 'baby,', 5576: 'baby', 4505: 'not', 6142: 'can', 2738: 'is', 5372: 'you', 9817: \"won't\", 8258: 'i', 8445: 'really', 7853: 'stay', 6798: 'hold', 9198: 'breathe', 7278: 'please', 5400: 'if', 7206: 'me?', 6049: 'you,', 4362: 'so', 3522: 'come', 1258: 'know', 2635: 'need', 8159: \"you're\", 978: 'finally', 1076: 'wanna', 4527: 'that', 2890: 'rescue', 2037: \"don't\", 9290: 'close', 8364: 'all'}\n",
    "\n",
    "def translate_message(myst_nums, dict1, dict2, dict3):\n",
    "    # Membagi pesan menjadi angka\"\n",
    "    num_list = myst_nums.split()\n",
    "    \n",
    "    # Menerjemahkan angka sesuai dengan dictionary yang disediakan\n",
    "    translated_message = \"\"\n",
    "    for num in num_list:\n",
    "        if int(num) in dict1:\n",
    "            translated_message += dict1[int(num)] + \" \"\n",
    "        elif int(num) in dict2:\n",
    "            translated_message += dict2[int(num)] + \" \"\n",
    "        elif int(num) in dict3:\n",
    "            translated_message += dict3[int(num)] + \" \"\n",
    "    \n",
    "    return translated_message\n",
    "\n",
    "# Menerjemahkan pesan\n",
    "translated_message = translate_message(myst_nums, dict1, dict2, dict3)\n",
    "print(translated_message)\n"
   ]
  },
  {
   "cell_type": "code",
   "execution_count": null,
   "id": "e93971b4",
   "metadata": {},
   "outputs": [],
   "source": []
  }
 ],
 "metadata": {
  "kernelspec": {
   "display_name": "Python 3 (ipykernel)",
   "language": "python",
   "name": "python3"
  },
  "language_info": {
   "codemirror_mode": {
    "name": "ipython",
    "version": 3
   },
   "file_extension": ".py",
   "mimetype": "text/x-python",
   "name": "python",
   "nbconvert_exporter": "python",
   "pygments_lexer": "ipython3",
   "version": "3.11.5"
  }
 },
 "nbformat": 4,
 "nbformat_minor": 5
}
